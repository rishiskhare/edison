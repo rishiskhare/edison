{
 "cells": [
  {
   "cell_type": "markdown",
   "metadata": {},
   "source": [
    "# Conversation Summary Trial"
   ]
  },
  {
   "cell_type": "code",
   "execution_count": 1,
   "metadata": {},
   "outputs": [],
   "source": [
    "!pip -q install openai langchain langchain_openai langchain_community"
   ]
  },
  {
   "cell_type": "code",
   "execution_count": 2,
   "metadata": {},
   "outputs": [],
   "source": [
    "import os\n",
    "from langchain.chains.conversation.memory import ConversationBufferMemory\n",
    "from langchain import OpenAI\n",
    "from langchain.chains import ConversationChain\n",
    "from langchain.chat_models import AzureChatOpenAI"
   ]
  },
  {
   "cell_type": "code",
   "execution_count": null,
   "metadata": {},
   "outputs": [
    {
     "name": "stderr",
     "output_type": "stream",
     "text": [
      "/var/folders/h1/hmk_zh0n0m7ckpxhx4yjttkm0000gn/T/ipykernel_99781/2241321914.py:3: LangChainDeprecationWarning: The class `AzureChatOpenAI` was deprecated in LangChain 0.0.10 and will be removed in 1.0. An updated version of the class exists in the :class:`~langchain-openai package and should be used instead. To use it run `pip install -U :class:`~langchain-openai` and import as `from :class:`~langchain_openai import AzureChatOpenAI``.\n",
      "  llm = AzureChatOpenAI(\n",
      "/var/folders/h1/hmk_zh0n0m7ckpxhx4yjttkm0000gn/T/ipykernel_99781/2241321914.py:8: LangChainDeprecationWarning: Please see the migration guide at: https://python.langchain.com/docs/versions/migrating_memory/\n",
      "  memory = ConversationBufferMemory()\n"
     ]
    }
   ],
   "source": [
    "os.environ[\"AZURE_OPENAI_ENDPOINT\"] = os.getenv(\"LLM_ENDPOINT\")\n",
    "\n",
    "llm = AzureChatOpenAI(\n",
    "        api_key=os.getenv(\"OPENAI_KEY\"),\n",
    "        api_version=\"2024-02-15-preview\"\n",
    "    )\n",
    "\n",
    "memory = ConversationBufferMemory()"
   ]
  },
  {
   "cell_type": "markdown",
   "metadata": {},
   "source": [
    "## ConversationBufferMemory\n",
    "Idea: Append all messages between user and model to the context\n",
    "\n",
    "Task: Ask the LLM for a series of conceptual questions related to Data 100's visualization unit and evaluate the effectiveness of a follow-up student reply.\n",
    "\n",
    "Findings:\n",
    "- Verbose in capturing details of user query, but can exhaust context limit with long conversations"
   ]
  },
  {
   "cell_type": "code",
   "execution_count": 4,
   "metadata": {},
   "outputs": [
    {
     "name": "stderr",
     "output_type": "stream",
     "text": [
      "/var/folders/h1/hmk_zh0n0m7ckpxhx4yjttkm0000gn/T/ipykernel_99781/2549658962.py:1: LangChainDeprecationWarning: The class `ConversationChain` was deprecated in LangChain 0.2.7 and will be removed in 1.0. Use :meth:`~RunnableWithMessageHistory: https://python.langchain.com/v0.2/api_reference/core/runnables/langchain_core.runnables.history.RunnableWithMessageHistory.html` instead.\n",
      "  conversation = ConversationChain(\n"
     ]
    }
   ],
   "source": [
    "conversation = ConversationChain(\n",
    "    llm=llm, \n",
    "    verbose=True, \n",
    "    memory=memory\n",
    ")"
   ]
  },
  {
   "cell_type": "code",
   "execution_count": 5,
   "metadata": {},
   "outputs": [
    {
     "name": "stdout",
     "output_type": "stream",
     "text": [
      "\n",
      "\n",
      "\u001b[1m> Entering new ConversationChain chain...\u001b[0m\n",
      "Prompt after formatting:\n",
      "\u001b[32;1m\u001b[1;3mThe following is a friendly conversation between a human and an AI. The AI is talkative and provides lots of specific details from its context. If the AI does not know the answer to a question, it truthfully says it does not know.\n",
      "\n",
      "Current conversation:\n",
      "\n",
      "Human: \n",
      "                     (i) Are histograms only generally used when we have 1 quantitative variable?\n",
      "                     (ii) Can we use a bar chart when we have 2 quantitative variables?\n",
      "                     (iii) When should I use a histogram instead of a bar chart?\n",
      "                     \n",
      "AI:\u001b[0m\n",
      "\n",
      "\u001b[1m> Finished chain.\u001b[0m\n"
     ]
    },
    {
     "data": {
      "text/plain": [
       "'(i) Yes, histograms are generally used when we have one quantitative variable. A histogram is a type of bar chart that represents the distribution of a single quantitative variable by dividing the data into bins or intervals and counting the number of observations in each bin. This helps to visualize the frequency distribution of the data.\\n\\n(ii) Bar charts are typically used to represent categorical data, not quantitative data. When dealing with two quantitative variables, other types of plots like scatter plots or line charts are more appropriate. Scatter plots show the relationship between two quantitative variables by displaying data points on a two-dimensional grid, with one variable on the x-axis and the other on the y-axis. Line charts, meanwhile, are useful for showing trends over time when both variables are quantitative.\\n\\n(iii) You should use a histogram instead of a bar chart when you want to display the distribution of a single quantitative variable. Histograms are ideal for showing the shape, central tendency, and variability of the data. They are particularly useful for identifying patterns such as skewness, bimodality, or the presence of outliers. While bar charts are better suited for comparing different categories of a categorical variable, histograms provide insight into the distribution and frequency of continuous data.'"
      ]
     },
     "execution_count": 5,
     "metadata": {},
     "output_type": "execute_result"
    }
   ],
   "source": [
    "conversation.predict(input=\"\"\"\n",
    "                     (i) Are histograms only generally used when we have 1 quantitative variable?\n",
    "                     (ii) Can we use a bar chart when we have 2 quantitative variables?\n",
    "                     (iii) When should I use a histogram instead of a bar chart?\n",
    "                     \"\"\"\n",
    "                     )"
   ]
  },
  {
   "cell_type": "code",
   "execution_count": 6,
   "metadata": {},
   "outputs": [
    {
     "name": "stdout",
     "output_type": "stream",
     "text": [
      "\n",
      "\n",
      "\u001b[1m> Entering new ConversationChain chain...\u001b[0m\n",
      "Prompt after formatting:\n",
      "\u001b[32;1m\u001b[1;3mThe following is a friendly conversation between a human and an AI. The AI is talkative and provides lots of specific details from its context. If the AI does not know the answer to a question, it truthfully says it does not know.\n",
      "\n",
      "Current conversation:\n",
      "Human: \n",
      "                     (i) Are histograms only generally used when we have 1 quantitative variable?\n",
      "                     (ii) Can we use a bar chart when we have 2 quantitative variables?\n",
      "                     (iii) When should I use a histogram instead of a bar chart?\n",
      "                     \n",
      "AI: (i) Yes, histograms are generally used when we have one quantitative variable. A histogram is a type of bar chart that represents the distribution of a single quantitative variable by dividing the data into bins or intervals and counting the number of observations in each bin. This helps to visualize the frequency distribution of the data.\n",
      "\n",
      "(ii) Bar charts are typically used to represent categorical data, not quantitative data. When dealing with two quantitative variables, other types of plots like scatter plots or line charts are more appropriate. Scatter plots show the relationship between two quantitative variables by displaying data points on a two-dimensional grid, with one variable on the x-axis and the other on the y-axis. Line charts, meanwhile, are useful for showing trends over time when both variables are quantitative.\n",
      "\n",
      "(iii) You should use a histogram instead of a bar chart when you want to display the distribution of a single quantitative variable. Histograms are ideal for showing the shape, central tendency, and variability of the data. They are particularly useful for identifying patterns such as skewness, bimodality, or the presence of outliers. While bar charts are better suited for comparing different categories of a categorical variable, histograms provide insight into the distribution and frequency of continuous data.\n",
      "Human: So for (ii) if a question gave us a qualitative variable and a quantitative variable, are they guaranteed to work?\n",
      "AI:\u001b[0m\n",
      "\n",
      "\u001b[1m> Finished chain.\u001b[0m\n"
     ]
    },
    {
     "data": {
      "text/plain": [
       "'Yes, if you have one qualitative (categorical) variable and one quantitative variable, you can effectively use a bar chart to represent the data. In this case, the bar chart will display the quantitative data grouped by the categories of the qualitative variable. Each bar represents a category and its height (or length, in the case of a horizontal bar chart) corresponds to the value of the quantitative variable for that category.\\n\\nFor example, if you have data on the average test scores (quantitative) of students in different classes (categorical), you can use a bar chart to show the average test score for each class. This allows you to easily compare the quantitative data across different categories.'"
      ]
     },
     "execution_count": 6,
     "metadata": {},
     "output_type": "execute_result"
    }
   ],
   "source": [
    "conversation.predict(input=\"So for (ii) if a question gave us a qualitative variable and a quantitative variable, are they guaranteed to work?\")"
   ]
  },
  {
   "cell_type": "code",
   "execution_count": 7,
   "metadata": {},
   "outputs": [
    {
     "name": "stdout",
     "output_type": "stream",
     "text": [
      "Human: \n",
      "                     (i) Are histograms only generally used when we have 1 quantitative variable?\n",
      "                     (ii) Can we use a bar chart when we have 2 quantitative variables?\n",
      "                     (iii) When should I use a histogram instead of a bar chart?\n",
      "                     \n",
      "AI: (i) Yes, histograms are generally used when we have one quantitative variable. A histogram is a type of bar chart that represents the distribution of a single quantitative variable by dividing the data into bins or intervals and counting the number of observations in each bin. This helps to visualize the frequency distribution of the data.\n",
      "\n",
      "(ii) Bar charts are typically used to represent categorical data, not quantitative data. When dealing with two quantitative variables, other types of plots like scatter plots or line charts are more appropriate. Scatter plots show the relationship between two quantitative variables by displaying data points on a two-dimensional grid, with one variable on the x-axis and the other on the y-axis. Line charts, meanwhile, are useful for showing trends over time when both variables are quantitative.\n",
      "\n",
      "(iii) You should use a histogram instead of a bar chart when you want to display the distribution of a single quantitative variable. Histograms are ideal for showing the shape, central tendency, and variability of the data. They are particularly useful for identifying patterns such as skewness, bimodality, or the presence of outliers. While bar charts are better suited for comparing different categories of a categorical variable, histograms provide insight into the distribution and frequency of continuous data.\n",
      "Human: So for (ii) if a question gave us a qualitative variable and a quantitative variable, are they guaranteed to work?\n",
      "AI: Yes, if you have one qualitative (categorical) variable and one quantitative variable, you can effectively use a bar chart to represent the data. In this case, the bar chart will display the quantitative data grouped by the categories of the qualitative variable. Each bar represents a category and its height (or length, in the case of a horizontal bar chart) corresponds to the value of the quantitative variable for that category.\n",
      "\n",
      "For example, if you have data on the average test scores (quantitative) of students in different classes (categorical), you can use a bar chart to show the average test score for each class. This allows you to easily compare the quantitative data across different categories.\n"
     ]
    }
   ],
   "source": [
    "print(conversation.memory.buffer)"
   ]
  },
  {
   "cell_type": "markdown",
   "metadata": {},
   "source": [
    "## ConversationSummaryMemory\n",
    "Idea: Provide the model with a summarization of the conversation history\n",
    "\n",
    "Task: Ask the LLM for a series of conceptual questions related to Data 100's visualization unit and evaluate the effectiveness of a follow-up student reply.\n",
    "\n",
    "Findings:\n",
    "- Can fit much more of the conversation history in the context window, but the summary may miss details in the conversation"
   ]
  },
  {
   "cell_type": "code",
   "execution_count": 8,
   "metadata": {},
   "outputs": [],
   "source": [
    "from langchain.chains.conversation.memory import ConversationSummaryMemory\n",
    "from langchain import OpenAI\n",
    "from langchain.chains import ConversationChain"
   ]
  },
  {
   "cell_type": "code",
   "execution_count": 9,
   "metadata": {},
   "outputs": [
    {
     "name": "stderr",
     "output_type": "stream",
     "text": [
      "/var/folders/h1/hmk_zh0n0m7ckpxhx4yjttkm0000gn/T/ipykernel_99781/1054943224.py:1: LangChainDeprecationWarning: Please see the migration guide at: https://python.langchain.com/docs/versions/migrating_memory/\n",
      "  summary_memory = ConversationSummaryMemory(llm=llm)\n"
     ]
    }
   ],
   "source": [
    "summary_memory = ConversationSummaryMemory(llm=llm)\n"
   ]
  },
  {
   "cell_type": "code",
   "execution_count": 10,
   "metadata": {},
   "outputs": [],
   "source": [
    "conversation = ConversationChain(\n",
    "    llm=llm, \n",
    "    verbose=True, \n",
    "    memory=summary_memory\n",
    ")"
   ]
  },
  {
   "cell_type": "code",
   "execution_count": 11,
   "metadata": {},
   "outputs": [
    {
     "name": "stdout",
     "output_type": "stream",
     "text": [
      "\n",
      "\n",
      "\u001b[1m> Entering new ConversationChain chain...\u001b[0m\n",
      "Prompt after formatting:\n",
      "\u001b[32;1m\u001b[1;3mThe following is a friendly conversation between a human and an AI. The AI is talkative and provides lots of specific details from its context. If the AI does not know the answer to a question, it truthfully says it does not know.\n",
      "\n",
      "Current conversation:\n",
      "\n",
      "Human: \n",
      "                     (i) Are histograms only generally used when we have 1 quantitative variable?\n",
      "                     (ii) Can we use a bar chart when we have 2 quantitative variables?\n",
      "                     (iii) When should I use a histogram instead of a bar chart?\n",
      "                     \n",
      "AI:\u001b[0m\n",
      "\n",
      "\u001b[1m> Finished chain.\u001b[0m\n"
     ]
    },
    {
     "data": {
      "text/plain": [
       "\"Sure, I'd be happy to help clarify these questions for you!\\n\\n(i) Histograms are indeed primarily used when you have one quantitative variable. They are a great way to represent the distribution of a dataset and to show the frequency of data points within specified ranges (bins). By visualizing this, you can quickly see patterns such as skewness, central tendency, and spread of the data.\\n\\n(ii) When you have two quantitative variables, a bar chart isn't usually the best choice. Bar charts are typically used for categorical data, where you want to compare different categories. For two quantitative variables, you might consider using a scatter plot, which can effectively show the relationship between the two variables. If you're interested in how the variables change together, a line chart might also be appropriate, especially if the data has a temporal component.\\n\\n(iii) You should use a histogram instead of a bar chart when you want to display the distribution of a single quantitative variable. Histograms are ideal for showing how many data points fall into each range of values (bins), which helps in understanding the underlying frequency distribution. On the other hand, bar charts are used to compare different categories of data, where each bar represents a category and the height of the bar represents the value associated with that category.\\n\\nI hope this helps! If you have any more questions or need further clarification, feel free to ask.\""
      ]
     },
     "execution_count": 11,
     "metadata": {},
     "output_type": "execute_result"
    }
   ],
   "source": [
    "conversation.predict(input=\"\"\"\n",
    "                     (i) Are histograms only generally used when we have 1 quantitative variable?\n",
    "                     (ii) Can we use a bar chart when we have 2 quantitative variables?\n",
    "                     (iii) When should I use a histogram instead of a bar chart?\n",
    "                     \"\"\"\n",
    "                     )"
   ]
  },
  {
   "cell_type": "code",
   "execution_count": 12,
   "metadata": {},
   "outputs": [
    {
     "name": "stdout",
     "output_type": "stream",
     "text": [
      "\n",
      "\n",
      "\u001b[1m> Entering new ConversationChain chain...\u001b[0m\n",
      "Prompt after formatting:\n",
      "\u001b[32;1m\u001b[1;3mThe following is a friendly conversation between a human and an AI. The AI is talkative and provides lots of specific details from its context. If the AI does not know the answer to a question, it truthfully says it does not know.\n",
      "\n",
      "Current conversation:\n",
      "The human asks three questions: if histograms are generally used for one quantitative variable, if bar charts can be used for two quantitative variables, and when to use a histogram instead of a bar chart. The AI clarifies that histograms are primarily used for one quantitative variable to show data distribution and frequency. For two quantitative variables, scatter plots or line charts are better than bar charts, which are for categorical data. Histograms should be used to display distribution of a single quantitative variable, while bar charts compare different categories of data. The AI offers further assistance if needed.\n",
      "Human: So for (ii) if a question gave us a qualitative variable and a quantitative variable, are they guaranteed to work?\n",
      "AI:\u001b[0m\n",
      "\n",
      "\u001b[1m> Finished chain.\u001b[0m\n"
     ]
    },
    {
     "data": {
      "text/plain": [
       "\"For a qualitative (categorical) variable and a quantitative variable, you would typically use a bar chart or a box plot, depending on what you're trying to illustrate. A bar chart can show the frequency or average of the quantitative variable for each category of the qualitative variable, while a box plot can provide a summary of the distribution (including median, quartiles, and potential outliers) of the quantitative variable within each category. So yes, these types of graphs are generally suitable for representing the relationship between a qualitative variable and a quantitative variable. If you have a specific context or example in mind, feel free to share it, and I can provide more detailed guidance!\""
      ]
     },
     "execution_count": 12,
     "metadata": {},
     "output_type": "execute_result"
    }
   ],
   "source": [
    "conversation.predict(input=\"So for (ii) if a question gave us a qualitative variable and a quantitative variable, are they guaranteed to work?\")"
   ]
  },
  {
   "cell_type": "code",
   "execution_count": 13,
   "metadata": {},
   "outputs": [
    {
     "name": "stdout",
     "output_type": "stream",
     "text": [
      "The human asks three questions: if histograms are generally used for one quantitative variable, if bar charts can be used for two quantitative variables, and when to use a histogram instead of a bar chart. The AI clarifies that histograms are primarily used for one quantitative variable to show data distribution and frequency. For two quantitative variables, scatter plots or line charts are better than bar charts, which are for categorical data. Histograms should be used to display the distribution of a single quantitative variable, while bar charts compare different categories of data. The AI then explains that for a qualitative (categorical) variable and a quantitative variable, bar charts or box plots are typically used. Bar charts can show the frequency or average of the quantitative variable for each category of the qualitative variable, while box plots provide a summary of the distribution of the quantitative variable within each category. The AI offers further assistance if needed and invites the human to share a specific context for more detailed guidance.\n"
     ]
    }
   ],
   "source": [
    "print(conversation.memory.buffer)"
   ]
  },
  {
   "cell_type": "markdown",
   "metadata": {},
   "source": []
  }
 ],
 "metadata": {
  "kernelspec": {
   "display_name": "edison",
   "language": "python",
   "name": "python3"
  },
  "language_info": {
   "codemirror_mode": {
    "name": "ipython",
    "version": 3
   },
   "file_extension": ".py",
   "mimetype": "text/x-python",
   "name": "python",
   "nbconvert_exporter": "python",
   "pygments_lexer": "ipython3",
   "version": "3.9.20"
  }
 },
 "nbformat": 4,
 "nbformat_minor": 2
}
